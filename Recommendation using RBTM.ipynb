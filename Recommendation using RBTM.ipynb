{
 "cells": [
  {
   "cell_type": "code",
   "execution_count": 1,
   "metadata": {},
   "outputs": [],
   "source": [
    "import tensorflow as tf\n",
    "import numpy as np\n",
    "import pandas as pd\n",
    "import matplotlib.pyplot as plt"
   ]
  },
  {
   "cell_type": "code",
   "execution_count": 2,
   "metadata": {},
   "outputs": [
    {
     "name": "stdout",
     "output_type": "stream",
     "text": [
      "      0                      1                2\n",
      "0  6278        Akhil chaurasia  CLOUD COMPUTING\n",
      "1  7231         Jaspreet Singh  CLOUD COMPUTING\n",
      "2  6845  Gagangeet Singh Aujla  CLOUD COMPUTING\n",
      "3  6222        Prabhneet Singh  CLOUD COMPUTING\n",
      "4  7347    Navpreet Kaur Walia  CLOUD COMPUTING\n"
     ]
    }
   ],
   "source": [
    "Teacher_df = pd.read_csv('G:/fTDATA.csv',header=None,engine='python')"
   ]
  },
  {
   "cell_type": "code",
   "execution_count": 3,
   "metadata": {},
   "outputs": [
    {
     "name": "stdout",
     "output_type": "stream",
     "text": [
      "      0     1    2\n",
      "0  1001  6278  4.3\n",
      "1  1001  7231  2.4\n",
      "2  1001  6845  3.6\n",
      "3  1001  6222  5.0\n",
      "4  1001  7347  1.2\n"
     ]
    }
   ],
   "source": [
    "ratings_df = pd.read_csv('G:/fSDATA.csv',header=None,engine='python')\n",
    "print(ratings_df.head())"
   ]
  },
  {
   "cell_type": "code",
   "execution_count": 4,
   "metadata": {},
   "outputs": [],
   "source": [
    "Teacher_df.columns = ['TID','TName','Technology']\n",
    "ratings_df.columns = ['SID','TID','Rating']"
   ]
  },
  {
   "cell_type": "code",
   "execution_count": 5,
   "metadata": {},
   "outputs": [
    {
     "name": "stdout",
     "output_type": "stream",
     "text": [
      "    TID                  TName       Technology\n",
      "0  6278        Akhil chaurasia  CLOUD COMPUTING\n",
      "1  7231         Jaspreet Singh  CLOUD COMPUTING\n",
      "2  6845  Gagangeet Singh Aujla  CLOUD COMPUTING\n",
      "3  6222        Prabhneet Singh  CLOUD COMPUTING\n",
      "4  7347    Navpreet Kaur Walia  CLOUD COMPUTING\n",
      "    SID   TID  Rating\n",
      "0  1001  6278     4.3\n",
      "1  1001  7231     2.4\n",
      "2  1001  6845     3.6\n",
      "3  1001  6222     5.0\n",
      "4  1001  7347     1.2\n"
     ]
    }
   ],
   "source": [
    "print(Teacher_df.head())\n",
    "print(ratings_df.head())"
   ]
  },
  {
   "cell_type": "code",
   "execution_count": 6,
   "metadata": {},
   "outputs": [
    {
     "name": "stdout",
     "output_type": "stream",
     "text": [
      "The number of teachers in the dataset are:  119\n"
     ]
    }
   ],
   "source": [
    "print(\"The number of teachers in the dataset are: \",len(Teacher_df))"
   ]
  },
  {
   "cell_type": "code",
   "execution_count": 7,
   "metadata": {},
   "outputs": [],
   "source": [
    "Teacher_df['List Index'] = Teacher_df.index"
   ]
  },
  {
   "cell_type": "code",
   "execution_count": 8,
   "metadata": {},
   "outputs": [
    {
     "name": "stdout",
     "output_type": "stream",
     "text": [
      "    TID                  TName       Technology  List Index\n",
      "0  6278        Akhil chaurasia  CLOUD COMPUTING           0\n",
      "1  7231         Jaspreet Singh  CLOUD COMPUTING           1\n",
      "2  6845  Gagangeet Singh Aujla  CLOUD COMPUTING           2\n",
      "3  6222        Prabhneet Singh  CLOUD COMPUTING           3\n",
      "4  7347    Navpreet Kaur Walia  CLOUD COMPUTING           4\n"
     ]
    }
   ],
   "source": [
    "print(Teacher_df.head())"
   ]
  },
  {
   "cell_type": "code",
   "execution_count": 9,
   "metadata": {},
   "outputs": [],
   "source": [
    "merged_df = Teacher_df.merge(ratings_df,on='TID')"
   ]
  },
  {
   "cell_type": "code",
   "execution_count": 10,
   "metadata": {},
   "outputs": [],
   "source": [
    "merged_df = merged_df.drop('TName',axis=1).drop('Technology',axis=1)"
   ]
  },
  {
   "cell_type": "code",
   "execution_count": 11,
   "metadata": {},
   "outputs": [
    {
     "name": "stdout",
     "output_type": "stream",
     "text": [
      "    TID  List Index   SID  Rating\n",
      "0  6278           0  1001     4.3\n",
      "1  6278           0  1012     4.3\n",
      "2  6278           0  1022     4.3\n",
      "3  6278           0  1036     4.3\n",
      "4  7231           1  1001     2.4\n"
     ]
    }
   ],
   "source": [
    "print(merged_df.head())"
   ]
  },
  {
   "cell_type": "code",
   "execution_count": 12,
   "metadata": {},
   "outputs": [],
   "source": [
    "user_Group = merged_df.groupby('SID')"
   ]
  },
  {
   "cell_type": "code",
   "execution_count": 13,
   "metadata": {},
   "outputs": [
    {
     "name": "stdout",
     "output_type": "stream",
     "text": [
      "      TID  List Index   SID  Rating\n",
      "0    6278           0  1001    4.30\n",
      "1    6278           0  1012    4.30\n",
      "2    6278           0  1022    4.30\n",
      "3    6278           0  1036    4.30\n",
      "4    7231           1  1001    2.40\n",
      "5    7231           1  1012    2.40\n",
      "6    7231           1  1022    2.40\n",
      "7    7231           1  1036    2.40\n",
      "8    6845           2  1001    3.60\n",
      "9    6845           2  1010    0.00\n",
      "10   6845           2  1012    3.60\n",
      "11   6845           2  1020    0.00\n",
      "12   6845           2  1022    3.60\n",
      "13   6845           2  1032    0.00\n",
      "14   6845           2  1036    3.60\n",
      "15   6845           2  1045    0.00\n",
      "16   6222           3  1001    5.00\n",
      "17   6222           3  1010    2.60\n",
      "18   6222           3  1012    5.00\n",
      "19   6222           3  1020    2.60\n",
      "20   6222           3  1022    5.00\n",
      "21   6222           3  1032    2.60\n",
      "22   6222           3  1036    5.00\n",
      "23   6222           3  1045    2.60\n",
      "24   7347           4  1001    1.20\n",
      "25   7347           4  1010    3.40\n",
      "26   7347           4  1012    1.20\n",
      "27   7347           4  1020    3.40\n",
      "28   7347           4  1022    1.20\n",
      "29   7347           4  1032    3.40\n",
      "..    ...         ...   ...     ...\n",
      "780  4911          79  1008    3.16\n",
      "784  6913          80  1008    5.00\n",
      "788  7773          81  1008    1.00\n",
      "790  7773          81  1031    1.00\n",
      "796  7382          82  1031    4.90\n",
      "804  5197          83  1031    3.80\n",
      "812  6201          84  1031    2.70\n",
      "814  6201          84  1043    2.70\n",
      "820  6199          85  1031    1.90\n",
      "822  6199          85  1043    1.90\n",
      "830  7288          86  1043    4.60\n",
      "835  7160          87  1021    2.64\n",
      "838  7160          87  1043    5.00\n",
      "840  7280          88  1009    5.00\n",
      "843  7280          88  1043    5.00\n",
      "844  2032          89  1009    4.90\n",
      "848  6669          90  1009    4.40\n",
      "852  7943          91  1009    3.90\n",
      "856  1694          92  1009    2.80\n",
      "859  1694          92  1021    4.87\n",
      "867  7206          93  1021    5.00\n",
      "875  6208          94  1021    3.78\n",
      "878  6208          94  1044    4.60\n",
      "883  5939          95  1044    3.50\n",
      "887  5896          96  1021    4.30\n",
      "890  5896          96  1044    2.90\n",
      "898  1915          97  1044    2.40\n",
      "906  1912          98  1044    5.00\n",
      "934  1211         103  1032    3.40\n",
      "940  2892         104  1032    2.90\n",
      "\n",
      "[226 rows x 4 columns]\n"
     ]
    }
   ],
   "source": [
    "print(user_Group.head())"
   ]
  },
  {
   "cell_type": "code",
   "execution_count": 16,
   "metadata": {},
   "outputs": [],
   "source": [
    "amountOfUsedUsers = 1000"
   ]
  },
  {
   "cell_type": "code",
   "execution_count": 17,
   "metadata": {},
   "outputs": [],
   "source": [
    "trX = []"
   ]
  },
  {
   "cell_type": "code",
   "execution_count": 18,
   "metadata": {},
   "outputs": [],
   "source": [
    "for userID, curUser in user_Group:\n",
    "    temp = [0]*len(Teacher_df)\n",
    "    for num,teacher in curUser.iterrows():\n",
    "        #print(movie)\n",
    "        temp[int(teacher['List Index'])] = teacher['Rating']/5.0\n",
    "    trX.append(temp)\n",
    "    if(amountOfUsedUsers==0):\n",
    "        break\n",
    "    amountOfUsedUsers -= 1\n"
   ]
  },
  {
   "cell_type": "code",
   "execution_count": 22,
   "metadata": {},
   "outputs": [],
   "source": [
    "import random\n",
    "random.shuffle(trX)\n",
    "train = trX[:30]\n",
    "valid = trX[30:]"
   ]
  },
  {
   "cell_type": "code",
   "execution_count": 23,
   "metadata": {},
   "outputs": [],
   "source": [
    "hiddenUnits = 50"
   ]
  },
  {
   "cell_type": "code",
   "execution_count": 39,
   "metadata": {},
   "outputs": [],
   "source": [
    "VisibleUnits = len(Teacher_df)"
   ]
  },
  {
   "cell_type": "code",
   "execution_count": 40,
   "metadata": {},
   "outputs": [],
   "source": [
    "vb = tf.placeholder(tf.float32, [VisibleUnits])\n",
    "hb = tf.placeholder(tf.float32, [hiddenUnits])\n",
    "W = tf.placeholder(tf.float32, [VisibleUnits, hiddenUnits])"
   ]
  },
  {
   "cell_type": "code",
   "execution_count": 41,
   "metadata": {},
   "outputs": [],
   "source": [
    "v0 = tf.placeholder(\"float\", [None,VisibleUnits])\n",
    "_h0 = tf.nn.sigmoid(tf.matmul(v0,W)+hb)\n",
    "h0 = tf.nn.relu(tf.sign(_h0 - tf.random_uniform(tf.shape(_h0))))"
   ]
  },
  {
   "cell_type": "code",
   "execution_count": 42,
   "metadata": {},
   "outputs": [],
   "source": [
    "_v1 = tf.nn.sigmoid(tf.matmul(h0,tf.transpose(W))+vb)\n",
    "v1 = tf.nn.relu(tf.sign(_v1 - tf.random_uniform(tf.shape(_v1))))\n",
    "h1 = tf.nn.sigmoid(tf.matmul(v1,W)+hb)"
   ]
  },
  {
   "cell_type": "code",
   "execution_count": 43,
   "metadata": {},
   "outputs": [],
   "source": [
    "alpha = 0.6"
   ]
  },
  {
   "cell_type": "code",
   "execution_count": 44,
   "metadata": {},
   "outputs": [],
   "source": [
    "w_pos_grad = tf.matmul(tf.transpose(v0),h0)\n",
    "w_neg_grad = tf.matmul(tf.transpose(v1),h1)"
   ]
  },
  {
   "cell_type": "code",
   "execution_count": 45,
   "metadata": {},
   "outputs": [],
   "source": [
    "CD = (w_pos_grad - w_neg_grad) / tf.to_float(tf.shape(v0)[0])"
   ]
  },
  {
   "cell_type": "code",
   "execution_count": 46,
   "metadata": {},
   "outputs": [],
   "source": [
    "update_w = W + alpha * CD\n",
    "update_vb = vb + alpha * tf.reduce_mean(v0 - v1, 0)\n",
    "update_hb = hb + alpha * tf.reduce_mean(h0 - h1, 0)"
   ]
  },
  {
   "cell_type": "code",
   "execution_count": 47,
   "metadata": {},
   "outputs": [],
   "source": [
    "err = v0 - v1\n",
    "err_sum = tf.reduce_mean(err*err)"
   ]
  },
  {
   "cell_type": "code",
   "execution_count": 48,
   "metadata": {},
   "outputs": [],
   "source": [
    "cur_w = np.random.normal(loc=0, scale=0.01,size=[VisibleUnits, hiddenUnits])\n",
    "cur_vb = np.zeros([VisibleUnits], np.float32)\n",
    "cur_hb = np.zeros([hiddenUnits], np.float32)\n",
    "prv_w = np.zeros([VisibleUnits, hiddenUnits], np.float32)\n",
    "prv_vb = np.zeros([VisibleUnits], np.float32)\n",
    "prv_hb = np.zeros([hiddenUnits], np.float32)"
   ]
  },
  {
   "cell_type": "code",
   "execution_count": 49,
   "metadata": {},
   "outputs": [],
   "source": [
    "config = tf.ConfigProto()\n",
    "config.gpu_options.allow_growth = True\n",
    "sess = tf.Session(config=config)\n",
    "sess.run(tf.global_variables_initializer())"
   ]
  },
  {
   "cell_type": "code",
   "execution_count": 50,
   "metadata": {},
   "outputs": [],
   "source": [
    "def free_energy(v_sample, W, vb, hb):\n",
    "    wx_b = np.dot(v_sample, W)+hb\n",
    "    vbias_term = np.dot(v_sample, vb)\n",
    "    hidden_term = np.sum(np.log(1+np.exp(wx_b)),axis=1)\n",
    "    return -hidden_term-vbias_term"
   ]
  },
  {
   "cell_type": "code",
   "execution_count": 53,
   "metadata": {},
   "outputs": [
    {
     "name": "stdout",
     "output_type": "stream",
     "text": [
      "Error in epoch 0 is: 0.47986504435539246\n",
      "Error in epoch 10 is: 0.4825865626335144\n",
      "Error in epoch 20 is: 0.4698145389556885\n",
      "Error in epoch 30 is: 0.48996132612228394\n",
      "Error in epoch 40 is: 0.4775512218475342\n",
      "Error in epoch 50 is: 0.47783806920051575\n"
     ]
    }
   ],
   "source": [
    "epochs = 60\n",
    "batchsize = 100\n",
    "errors = []\n",
    "energy_train = []\n",
    "energy_valid = []\n",
    "for i in range(epochs):\n",
    "    for start, end in zip(range(0,len(train), batchsize), range(batchsize, len(train), batchsize)):\n",
    "        batch = train[start:end]\n",
    "        cur_w = sess.run(update_w, feed_dict={v0: batch, W: prv_w, vb: prv_vb, hb: prv_hb})\n",
    "        cur_vb = sess.run(update_vb, feed_dict={v0: batch, W: prv_w, vb: prv_vb, hb: prv_hb})\n",
    "        cur_hb = sess.run(update_hb, feed_dict={v0: batch, W: prv_w, vb: prv_vb, hb: prv_hb})\n",
    "        prv_w = cur_w\n",
    "        prv_vb = cur_vb\n",
    "        prv_hb = cur_hb\n",
    "    energy_train.append(np.mean(free_energy(train,cur_w,cur_vb,cur_hb)))\n",
    "    energy_valid.append(np.mean(free_energy(valid,cur_w,cur_vb,cur_hb)))\n",
    "    errors.append(sess.run(err_sum, feed_dict={v0: train, W: cur_w, vb: cur_vb, hb: cur_hb}))\n",
    "    if i%10==0:\n",
    "        print(\"Error in epoch {0} is: {1}\".format(i,errors[i]))"
   ]
  },
  {
   "cell_type": "code",
   "execution_count": 54,
   "metadata": {},
   "outputs": [
    {
     "data": {
      "image/png": "[encoded data removed]",
      "text/plain": [
       "<Figure size 432x288 with 1 Axes>"
      ]
     },
     "metadata": {
      "needs_background": "light"
     },
     "output_type": "display_data"
    }
   ],
   "source": [
    "fig, ax = plt.subplots()\n",
    "ax.plot(energy_train, label = 'train')\n",
    "ax.plot(energy_valid, label = 'valid')\n",
    "leg = ax.legend()\n",
    "plt.xlabel(\"Epoch\")\n",
    "plt.ylabel(\"Free Energy\")\n",
    "plt.show()"
   ]
  },
  {
   "cell_type": "code",
   "execution_count": 55,
   "metadata": {},
   "outputs": [
    {
     "data": {
      "image/png": "[encoded data removed]",
      "text/plain": [
       "<Figure size 432x288 with 1 Axes>"
      ]
     },
     "metadata": {
      "needs_background": "light"
     },
     "output_type": "display_data"
    }
   ],
   "source": [
    "plt.plot(errors)\n",
    "plt.xlabel(\"Epoch\")\n",
    "plt.ylabel(\"Error\")\n",
    "plt.show()"
   ]
  },
  {
   "cell_type": "code",
   "execution_count": 56,
   "metadata": {},
   "outputs": [],
   "source": [
    "inputUser = [train[22]]"
   ]
  },
  {
   "cell_type": "code",
   "execution_count": 57,
   "metadata": {},
   "outputs": [],
   "source": [
    "hh0 = tf.nn.sigmoid(tf.matmul(v0, W) + hb)\n",
    "vv1 = tf.nn.sigmoid(tf.matmul(hh0, tf.transpose(W)) + vb)\n",
    "feed = sess.run(hh0, feed_dict={v0: inputUser, W: prv_w, hb: prv_hb})\n",
    "rec = sess.run(vv1, feed_dict={hh0: feed, W: prv_w, vb: prv_vb})"
   ]
  },
  {
   "cell_type": "code",
   "execution_count": 60,
   "metadata": {},
   "outputs": [
    {
     "name": "stdout",
     "output_type": "stream",
     "text": [
      "     TID                TName  \\\n",
      "0   6278      Akhil chaurasia   \n",
      "75  5916     Anuja Srivastava   \n",
      "87  7160                 Riya   \n",
      "86  7288             Dupinder   \n",
      "85  6199       Ravinder Saini   \n",
      "84  6201             abhishek   \n",
      "83  5197  Sushil kumar mishra   \n",
      "82  7382              Vasudha   \n",
      "81  7773       Simarjeet Kaur   \n",
      "80  6913          Puneet kaur   \n",
      "79  4911            ANNUPRIYA   \n",
      "78  6227     charanpreet kaur   \n",
      "77  2899          Vijay kumar   \n",
      "76  6129       gurpreet singh   \n",
      "74  4927         Jagtar Singh   \n",
      "89  2032       GEETIKA SHARMA   \n",
      "73  5002    Vijay Kumar Singh   \n",
      "72  4952           Deepshikha   \n",
      "71  1609        Sanjay Madaan   \n",
      "70  6234       Shanvendra Rai   \n",
      "\n",
      "                                           Technology  List Index  \\\n",
      "0                                     CLOUD COMPUTING           0   \n",
      "75                                          JAVA| JSP          75   \n",
      "87                                   NETWORK SECURITY          87   \n",
      "86                                   NETWORK SECURITY          86   \n",
      "85                                   NETWORK SECURITY          85   \n",
      "84                                   NETWORK SECURITY          84   \n",
      "83                                   NETWORK SECURITY          83   \n",
      "82                                  JAVA| JSP| PYTHON          82   \n",
      "81                                          JAVA| JSP          81   \n",
      "80                                          JAVA| JSP          80   \n",
      "79                                          JAVA| JSP          79   \n",
      "78                                          JAVA| JSP          78   \n",
      "77                                          JAVA| JSP          77   \n",
      "76                                          JAVA| JSP          76   \n",
      "74                                          JAVA| JSP          74   \n",
      "89  NETWORK SECURITY| NETWORKING| NS2| NS3| PACKET...          89   \n",
      "73                                          JAVA| JSP          73   \n",
      "72                                          JAVA| JSP          72   \n",
      "71                                          JAVA| JSP          71   \n",
      "70                 INFORMATION SECURITY| CRYPTOGRAPHY          70   \n",
      "\n",
      "    Recommendation Score  \n",
      "0                    0.5  \n",
      "75                   0.5  \n",
      "87                   0.5  \n",
      "86                   0.5  \n",
      "85                   0.5  \n",
      "84                   0.5  \n",
      "83                   0.5  \n",
      "82                   0.5  \n",
      "81                   0.5  \n",
      "80                   0.5  \n",
      "79                   0.5  \n",
      "78                   0.5  \n",
      "77                   0.5  \n",
      "76                   0.5  \n",
      "74                   0.5  \n",
      "89                   0.5  \n",
      "73                   0.5  \n",
      "72                   0.5  \n",
      "71                   0.5  \n",
      "70                   0.5  \n"
     ]
    }
   ],
   "source": [
    "scored_teacher_df_50 = Teacher_df\n",
    "scored_teacher_df_50[\"Recommendation Score\"] = rec[0]\n",
    "print(scored_teacher_df_50.sort_values([\"Recommendation Score\"], ascending=False).head(20))"
   ]
  },
  {
   "cell_type": "code",
   "execution_count": 61,
   "metadata": {},
   "outputs": [
    {
     "name": "stdout",
     "output_type": "stream",
     "text": [
      "TID           4879.00\n",
      "List Index       6.00\n",
      "SID           1036.00\n",
      "Rating           3.33\n",
      "Name: 50, dtype: float64\n"
     ]
    }
   ],
   "source": [
    "print(merged_df.iloc[50])"
   ]
  },
  {
   "cell_type": "code",
   "execution_count": 65,
   "metadata": {},
   "outputs": [
    {
     "name": "stdout",
     "output_type": "stream",
     "text": [
      "     TID  List Index   SID  Rating\n",
      "1   6278           0  1012     4.3\n",
      "5   7231           1  1012     2.4\n",
      "10  6845           2  1012     3.6\n",
      "18  6222           3  1012     5.0\n",
      "26  7347           4  1012     1.2\n"
     ]
    }
   ],
   "source": [
    "teacher_df_50 = merged_df[merged_df['SID']==1012]\n",
    "print(teacher_df_50.head())"
   ]
  },
  {
   "cell_type": "code",
   "execution_count": 67,
   "metadata": {},
   "outputs": [],
   "source": [
    "merged_df_50 = scored_teacher_df_50.merge(teacher_df_50, on='TID', how='outer')\n",
    "merged_df_50 = merged_df_50.drop('List Index_y', axis=1).drop('SID', axis=1)"
   ]
  },
  {
   "cell_type": "code",
   "execution_count": 68,
   "metadata": {},
   "outputs": [
    {
     "name": "stdout",
     "output_type": "stream",
     "text": [
      "     TID                TName  \\\n",
      "0   6278      Akhil chaurasia   \n",
      "75  5916     Anuja Srivastava   \n",
      "87  7160                 Riya   \n",
      "86  7288             Dupinder   \n",
      "85  6199       Ravinder Saini   \n",
      "84  6201             abhishek   \n",
      "83  5197  Sushil kumar mishra   \n",
      "82  7382              Vasudha   \n",
      "81  7773       Simarjeet Kaur   \n",
      "80  6913          Puneet kaur   \n",
      "79  4911            ANNUPRIYA   \n",
      "78  6227     charanpreet kaur   \n",
      "77  2899          Vijay kumar   \n",
      "76  6129       gurpreet singh   \n",
      "74  4927         Jagtar Singh   \n",
      "89  2032       GEETIKA SHARMA   \n",
      "73  5002    Vijay Kumar Singh   \n",
      "72  4952           Deepshikha   \n",
      "71  1609        Sanjay Madaan   \n",
      "70  6234       Shanvendra Rai   \n",
      "\n",
      "                                           Technology  List Index_x  \\\n",
      "0                                     CLOUD COMPUTING             0   \n",
      "75                                          JAVA| JSP            75   \n",
      "87                                   NETWORK SECURITY            87   \n",
      "86                                   NETWORK SECURITY            86   \n",
      "85                                   NETWORK SECURITY            85   \n",
      "84                                   NETWORK SECURITY            84   \n",
      "83                                   NETWORK SECURITY            83   \n",
      "82                                  JAVA| JSP| PYTHON            82   \n",
      "81                                          JAVA| JSP            81   \n",
      "80                                          JAVA| JSP            80   \n",
      "79                                          JAVA| JSP            79   \n",
      "78                                          JAVA| JSP            78   \n",
      "77                                          JAVA| JSP            77   \n",
      "76                                          JAVA| JSP            76   \n",
      "74                                          JAVA| JSP            74   \n",
      "89  NETWORK SECURITY| NETWORKING| NS2| NS3| PACKET...            89   \n",
      "73                                          JAVA| JSP            73   \n",
      "72                                          JAVA| JSP            72   \n",
      "71                                          JAVA| JSP            71   \n",
      "70                 INFORMATION SECURITY| CRYPTOGRAPHY            70   \n",
      "\n",
      "    Recommendation Score  Rating  \n",
      "0                    0.5     4.3  \n",
      "75                   0.5     NaN  \n",
      "87                   0.5     NaN  \n",
      "86                   0.5     NaN  \n",
      "85                   0.5     NaN  \n",
      "84                   0.5     NaN  \n",
      "83                   0.5     NaN  \n",
      "82                   0.5     NaN  \n",
      "81                   0.5     NaN  \n",
      "80                   0.5     NaN  \n",
      "79                   0.5     NaN  \n",
      "78                   0.5     NaN  \n",
      "77                   0.5     NaN  \n",
      "76                   0.5     NaN  \n",
      "74                   0.5     NaN  \n",
      "89                   0.5     NaN  \n",
      "73                   0.5     NaN  \n",
      "72                   0.5     NaN  \n",
      "71                   0.5     NaN  \n",
      "70                   0.5     NaN  \n"
     ]
    }
   ],
   "source": [
    "print(merged_df_50.sort_values(['Recommendation Score'], ascending=False).head(20))"
   ]
  },
  {
   "cell_type": "code",
   "execution_count": null,
   "metadata": {},
   "outputs": [],
   "source": []
  }
 ],
 "metadata": {
  "kernelspec": {
   "display_name": "Python 3",
   "language": "python",
   "name": "python3"
  },
  "language_info": {
   "codemirror_mode": {
    "name": "ipython",
    "version": 3
   },
   "file_extension": ".py",
   "mimetype": "text/x-python",
   "name": "python",
   "nbconvert_exporter": "python",
   "pygments_lexer": "ipython3",
   "version": "3.5.6"
  }
 },
 "nbformat": 4,
 "nbformat_minor": 2
}
